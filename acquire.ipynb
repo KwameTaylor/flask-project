{
 "cells": [
  {
   "cell_type": "markdown",
   "metadata": {},
   "source": [
    "## Data Acquisition\n",
    "\n",
    "In this project my goal is to create an interactive tool that can be used to find a user's top location recommendations for where to move/live in the continental United States, given a user's preferences. I was inspired to create this because I am currently relocating and wished there was an aggregated source to visualize my preferences for things that matter to me when choosing a state and city to move to and live and thrive in."
   ]
  },
  {
   "cell_type": "markdown",
   "metadata": {},
   "source": [
    "### First source: The Municipal Equality Index by HRC (2020)\n",
    "\n",
    "https://www.hrc.org/resources/municipalities"
   ]
  },
  {
   "cell_type": "markdown",
   "metadata": {},
   "source": [
    "I'll try to use web scraping on the database results from a blank query on their webpage."
   ]
  },
  {
   "cell_type": "code",
   "execution_count": 1,
   "metadata": {},
   "outputs": [],
   "source": [
    "import numpy as np\n",
    "import pandas as pd\n",
    "\n",
    "from requests import get\n",
    "import re\n",
    "from bs4 import BeautifulSoup\n",
    "import os"
   ]
  },
  {
   "cell_type": "code",
   "execution_count": 2,
   "metadata": {},
   "outputs": [],
   "source": [
    "url = 'https://www.hrc.org/resources/municipalities'\n",
    "headers = {'User-Agent': 'Kwame'} # Some websites don't accept the pyhon-requests default user-agent\n",
    "response = get(url, headers=headers)"
   ]
  },
  {
   "cell_type": "code",
   "execution_count": 3,
   "metadata": {},
   "outputs": [
    {
     "name": "stdout",
     "output_type": "stream",
     "text": [
      "<!DOCTYPE html>\n",
      "<html dir=\"ltr\" lang=\"en-US\" class=\"no-js no-touch\">\n",
      "<head>\n",
      "  <meta charset=\"utf-8\">\n",
      "  <meta http-equiv=\"x-ua-compatible\" content=\"ie=edge\">\n",
      "  <meta name=\"viewport\" content=\"width=device-width, initial-scale=1, shrink-to-fit=no\">\n",
      "\n",
      "  <link rel=\"home\" href=\"https://www.hrc.org/\">\n",
      "  <link rel=\"shortcut icon\" href=\"/favicon.ico\">\n",
      "  <link rel=\"icon\" sizes=\"16x16 32x32 64x64\" href=\"/favi\n"
     ]
    }
   ],
   "source": [
    "print(response.text[:400])"
   ]
  },
  {
   "cell_type": "code",
   "execution_count": 4,
   "metadata": {},
   "outputs": [],
   "source": [
    "# Make a soup variable holding the response content\n",
    "soup = BeautifulSoup(response.content, 'html.parser')\n",
    "\n",
    "# Look at the website and identify parts of results\n",
    "title = soup.find('h2').text\n",
    "content = soup.find('p').text"
   ]
  },
  {
   "cell_type": "code",
   "execution_count": 5,
   "metadata": {},
   "outputs": [
    {
     "data": {
      "text/plain": [
       "'\\n            Cookies in use\\n          '"
      ]
     },
     "execution_count": 5,
     "metadata": {},
     "output_type": "execute_result"
    }
   ],
   "source": [
    "title"
   ]
  },
  {
   "cell_type": "code",
   "execution_count": 6,
   "metadata": {},
   "outputs": [
    {
     "data": {
      "text/plain": [
       "'Where does your city stand in the movement for equality?'"
      ]
     },
     "execution_count": 6,
     "metadata": {},
     "output_type": "execute_result"
    }
   ],
   "source": [
    "content"
   ]
  },
  {
   "cell_type": "code",
   "execution_count": 7,
   "metadata": {},
   "outputs": [
    {
     "data": {
      "text/plain": [
       "[<h2 class=\"heading-24 mb-12\">\n",
       "             Cookies in use\n",
       "           </h2>,\n",
       " <h2 class=\"type-eyebrow text-theme-headline-default-current\">\n",
       "               Related Resources\n",
       "             </h2>,\n",
       " <h2 class=\"heading-48\">\n",
       "             Love conquers hate.\n",
       "           </h2>,\n",
       " <h2 class=\"font-bold leading-squeeze text-32\">\n",
       "             Wear your pride this year.\n",
       "           </h2>,\n",
       " <h2 class=\"heading-48\">\n",
       "                 Love conquers hate.\n",
       "               </h2>,\n",
       " <h2 class=\"font-bold leading-squeeze text-32\">\n",
       "                 Wear your pride this year.\n",
       "               </h2>,\n",
       " <h2 class=\"heading-20 mb-32\">Join millions of supporters by signing up for the HRC newsletter.</h2>,\n",
       " <h2 class=\"heading-60 mb-32\">You are leaving HRC.org</h2>]"
      ]
     },
     "execution_count": 7,
     "metadata": {},
     "output_type": "execute_result"
    }
   ],
   "source": [
    "soup.find_all('h2')"
   ]
  },
  {
   "cell_type": "code",
   "execution_count": 11,
   "metadata": {},
   "outputs": [
    {
     "data": {
      "text/plain": [
       "[<span class=\"align-middle\">Accept</span>,\n",
       " <span class=\"align-middle\">Shop</span>,\n",
       " <span class=\"align-middle\">Donate</span>,\n",
       " <span class=\"align-middle\">Shop</span>,\n",
       " <span class=\"align-middle\">Donate</span>,\n",
       " <span class=\"align-middle\">View All</span>,\n",
       " <span class=\"align-middle\">Donate Today</span>,\n",
       " <span class=\"align-middle\">Shop Now</span>,\n",
       " <span class=\"align-middle\">Donate Today</span>,\n",
       " <span class=\"align-middle\">Shop Now</span>,\n",
       " <span class=\"align-middle\">Sign Me Up</span>]"
      ]
     },
     "execution_count": 11,
     "metadata": {},
     "output_type": "execute_result"
    }
   ],
   "source": [
    "soup.find_all(\"span\", class_=\"align-middle\")"
   ]
  },
  {
   "cell_type": "code",
   "execution_count": 13,
   "metadata": {},
   "outputs": [
    {
     "data": {
      "text/plain": [
       "[]"
      ]
     },
     "execution_count": 13,
     "metadata": {},
     "output_type": "execute_result"
    }
   ],
   "source": [
    "soup.find_all('$0')"
   ]
  },
  {
   "cell_type": "code",
   "execution_count": 14,
   "metadata": {},
   "outputs": [
    {
     "data": {
      "text/plain": [
       "[]"
      ]
     },
     "execution_count": 14,
     "metadata": {},
     "output_type": "execute_result"
    }
   ],
   "source": [
    "soup.find_all('article', {'data-label': 'component-score-card-index'})"
   ]
  },
  {
   "cell_type": "code",
   "execution_count": 15,
   "metadata": {},
   "outputs": [
    {
     "name": "stdout",
     "output_type": "stream",
     "text": [
      "Congressional Scorecard\n",
      "Congressional Scorecard\n",
      "Congressional Scorecard\n",
      "Congressional Scorecard\n"
     ]
    }
   ],
   "source": [
    "for item in soup:\n",
    "    print(soup.div.article['aria-label'])"
   ]
  },
  {
   "cell_type": "code",
   "execution_count": 16,
   "metadata": {},
   "outputs": [
    {
     "data": {
      "text/plain": [
       "[]"
      ]
     },
     "execution_count": 16,
     "metadata": {},
     "output_type": "execute_result"
    }
   ],
   "source": [
    "soup.find_all('/html/body/div[1]/main/div/section/div/article[1]/div[1]/div[1]/h2/a/span[1]')"
   ]
  },
  {
   "cell_type": "markdown",
   "metadata": {},
   "source": [
    "I think there is javascript in the mix, so I'm going to try scraping using Selenium."
   ]
  },
  {
   "cell_type": "code",
   "execution_count": 26,
   "metadata": {},
   "outputs": [
    {
     "name": "stdout",
     "output_type": "stream",
     "text": [
      "https://www.hrc.org/resources/municipalities/search?sort=score-desc\n"
     ]
    }
   ],
   "source": [
    "# import libraries\n",
    "import urllib.request\n",
    "from selenium import webdriver\n",
    "import time\n",
    "\n",
    "# specify the url\n",
    "urlpage = 'https://www.hrc.org/resources/municipalities/search?sort=score-desc' \n",
    "print(urlpage)\n",
    "# run firefox webdriver from executable path of your choice\n",
    "driver = webdriver.Firefox(executable_path = '/Users/a666/codeup-data-science/flask-project/geckodriver')"
   ]
  },
  {
   "cell_type": "code",
   "execution_count": 27,
   "metadata": {},
   "outputs": [],
   "source": [
    "# get web page\n",
    "driver.get(urlpage)\n",
    "# execute script to scroll down the page\n",
    "driver.execute_script(\"window.scrollTo(0, document.body.scrollHeight);var lenOfPage=document.body.scrollHeight;return lenOfPage;\")\n",
    "# sleep for 30s\n",
    "time.sleep(30)\n",
    "# driver.quit()"
   ]
  },
  {
   "cell_type": "code",
   "execution_count": 32,
   "metadata": {},
   "outputs": [
    {
     "name": "stdout",
     "output_type": "stream",
     "text": [
      "Number of results 20\n"
     ]
    }
   ],
   "source": [
    "results = driver.find_elements_by_xpath(\"/html/body/div/main/div/section/div/article/div/div/h2/a/span\")\n",
    "print('Number of results', len(results))"
   ]
  },
  {
   "cell_type": "code",
   "execution_count": 37,
   "metadata": {},
   "outputs": [
    {
     "name": "stdout",
     "output_type": "stream",
     "text": [
      "Albany\n",
      "\n",
      "Alexandria\n",
      "\n",
      "Allentown\n",
      "\n",
      "Ann Arbor\n",
      "\n",
      "Arlington\n",
      "\n",
      "Arlington\n",
      "\n",
      "Atlanta\n",
      "\n",
      "Austin\n",
      "\n",
      "Baltimore\n",
      "\n",
      "Bellevue\n",
      "\n"
     ]
    }
   ],
   "source": [
    "for result in results:\n",
    "    print(result.text)"
   ]
  },
  {
   "cell_type": "code",
   "execution_count": 43,
   "metadata": {},
   "outputs": [],
   "source": [
    "# create empty array to store data\n",
    "data = []\n",
    "# loop over results\n",
    "for result in results:\n",
    "    if result.text != \"\":\n",
    "        city = result.text\n",
    "        # append dict to array\n",
    "        data.append({\"city\" : city})"
   ]
  },
  {
   "cell_type": "code",
   "execution_count": 44,
   "metadata": {},
   "outputs": [
    {
     "data": {
      "text/plain": [
       "[{'city': 'Albany'},\n",
       " {'city': 'Alexandria'},\n",
       " {'city': 'Allentown'},\n",
       " {'city': 'Ann Arbor'},\n",
       " {'city': 'Arlington'},\n",
       " {'city': 'Arlington'},\n",
       " {'city': 'Atlanta'},\n",
       " {'city': 'Austin'},\n",
       " {'city': 'Baltimore'},\n",
       " {'city': 'Bellevue'}]"
      ]
     },
     "execution_count": 44,
     "metadata": {},
     "output_type": "execute_result"
    }
   ],
   "source": [
    "data"
   ]
  },
  {
   "cell_type": "code",
   "execution_count": null,
   "metadata": {},
   "outputs": [],
   "source": []
  }
 ],
 "metadata": {
  "kernelspec": {
   "display_name": "Python 3",
   "language": "python",
   "name": "python3"
  },
  "language_info": {
   "codemirror_mode": {
    "name": "ipython",
    "version": 3
   },
   "file_extension": ".py",
   "mimetype": "text/x-python",
   "name": "python",
   "nbconvert_exporter": "python",
   "pygments_lexer": "ipython3",
   "version": "3.8.3"
  }
 },
 "nbformat": 4,
 "nbformat_minor": 4
}
